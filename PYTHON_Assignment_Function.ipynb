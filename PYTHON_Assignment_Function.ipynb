{
  "nbformat": 4,
  "nbformat_minor": 0,
  "metadata": {
    "colab": {
      "provenance": [],
      "authorship_tag": "ABX9TyMoRoUrXIFIOei47SdGCZqr",
      "include_colab_link": true
    },
    "kernelspec": {
      "name": "python3",
      "display_name": "Python 3"
    },
    "language_info": {
      "name": "python"
    }
  },
  "cells": [
    {
      "cell_type": "markdown",
      "metadata": {
        "id": "view-in-github",
        "colab_type": "text"
      },
      "source": [
        "<a href=\"https://colab.research.google.com/github/Neamalinga/Python-Assignment/blob/main/PYTHON_Assignment_Function.ipynb\" target=\"_parent\"><img src=\"https://colab.research.google.com/assets/colab-badge.svg\" alt=\"Open In Colab\"/></a>"
      ]
    },
    {
      "cell_type": "code",
      "source": [
        "#Write a function wish(name) that returns \"Hello, Good Morning <name>!\".\n",
        "\n",
        "def wish(name):\n",
        "    print(f\"Hello,Good morning  {name}\")"
      ],
      "metadata": {
        "id": "CA7WIX42Xhl4"
      },
      "execution_count": null,
      "outputs": []
    },
    {
      "cell_type": "code",
      "source": [
        "wish('priya')"
      ],
      "metadata": {
        "colab": {
          "base_uri": "https://localhost:8080/"
        },
        "id": "gI7eJ-kuZEGY",
        "outputId": "a0b5583f-c499-4c10-8de2-f30b53491613"
      },
      "execution_count": null,
      "outputs": [
        {
          "output_type": "stream",
          "name": "stdout",
          "text": [
            "Hello,Good morning  priya\n"
          ]
        }
      ]
    },
    {
      "cell_type": "code",
      "source": [
        "#Write a function cube(n) that returns the cube of a number (n^3)\n",
        "def cube(n):\n",
        "  print(f\"cube of {n} is {n**3}\")\n"
      ],
      "metadata": {
        "id": "Dd-vhJcMZKs5"
      },
      "execution_count": null,
      "outputs": []
    },
    {
      "cell_type": "code",
      "source": [
        "cube(5)"
      ],
      "metadata": {
        "colab": {
          "base_uri": "https://localhost:8080/"
        },
        "id": "OQLyNFETaXar",
        "outputId": "6014404d-6832-4c0b-9dae-fb1e3daf24aa"
      },
      "execution_count": null,
      "outputs": [
        {
          "output_type": "stream",
          "name": "stdout",
          "text": [
            "cube of 5 is 125\n"
          ]
        }
      ]
    },
    {
      "cell_type": "code",
      "source": [
        "def  check_even(n):\n",
        "  if n%2==0:\n",
        "    print(\"true\")\n",
        "  else:\n",
        "    print(\"false\")"
      ],
      "metadata": {
        "id": "l6OAAvxqbHlI"
      },
      "execution_count": null,
      "outputs": []
    },
    {
      "cell_type": "code",
      "source": [
        "check_even(5)"
      ],
      "metadata": {
        "colab": {
          "base_uri": "https://localhost:8080/"
        },
        "id": "NF8HfX8bcC4A",
        "outputId": "d6994c82-250c-4d6f-a00b-72d6e13623fd"
      },
      "execution_count": null,
      "outputs": [
        {
          "output_type": "stream",
          "name": "stdout",
          "text": [
            "false\n"
          ]
        }
      ]
    },
    {
      "cell_type": "code",
      "source": [
        "#Write a function greatest_of_two(a, b) that returns the larger of two numbers.\n",
        "\n",
        "def greatest_of_two(a,b):\n",
        "  if a>b:\n",
        "    print(f\"{a} is greater\")\n",
        "  else:\n",
        "    print(f\"{b} is greater\")"
      ],
      "metadata": {
        "id": "ACN2qe7deULS"
      },
      "execution_count": null,
      "outputs": []
    },
    {
      "cell_type": "code",
      "source": [
        "greatest_of_two(90,100)"
      ],
      "metadata": {
        "colab": {
          "base_uri": "https://localhost:8080/"
        },
        "id": "ddbhHIbQfJuz",
        "outputId": "53ab9e3c-6b9d-42c5-c9a5-c94dd277f719"
      },
      "execution_count": null,
      "outputs": [
        {
          "output_type": "stream",
          "name": "stdout",
          "text": [
            "100 is greater\n"
          ]
        }
      ]
    },
    {
      "cell_type": "code",
      "source": [
        "#Write a function count_letters(s) that returns the number of characters in a string.\n",
        "\n",
        "def count_letters(s):\n",
        "  count=0\n",
        "  for i in s:\n",
        "    count+=1\n",
        "    print(count)\n",
        "\n",
        "\n",
        "\n",
        "\n",
        "\n"
      ],
      "metadata": {
        "id": "_mKu9FThf7GI"
      },
      "execution_count": null,
      "outputs": []
    },
    {
      "cell_type": "code",
      "source": [
        "count_letters(\"priya\")"
      ],
      "metadata": {
        "colab": {
          "base_uri": "https://localhost:8080/"
        },
        "id": "jkvXKL3BpDRd",
        "outputId": "f7ef5d9a-a373-487a-c2cc-d57f879d8adf"
      },
      "execution_count": null,
      "outputs": [
        {
          "output_type": "stream",
          "name": "stdout",
          "text": [
            "1\n",
            "2\n",
            "3\n",
            "4\n",
            "5\n"
          ]
        }
      ]
    },
    {
      "cell_type": "code",
      "source": [
        "#Write a function power(value, exp=2) that returns the number raised to the power exp. (Default exponent = 2)\n",
        "\n",
        "def power(value,exp=2):\n",
        "  print(value**exp)\n"
      ],
      "metadata": {
        "id": "VhePDh_GpUD4"
      },
      "execution_count": null,
      "outputs": []
    },
    {
      "cell_type": "code",
      "source": [
        "power(5,2)"
      ],
      "metadata": {
        "colab": {
          "base_uri": "https://localhost:8080/"
        },
        "id": "sRDCbwlCq3m8",
        "outputId": "ba503483-c8a9-4034-93fb-a5b33830da03"
      },
      "execution_count": null,
      "outputs": [
        {
          "output_type": "stream",
          "name": "stdout",
          "text": [
            "25\n"
          ]
        }
      ]
    },
    {
      "cell_type": "code",
      "source": [
        "#Write a function swap(a, b) that returns the two values swapped as a tuple.\n",
        "\n",
        "def swap(a,b):\n",
        "  print(f\"after swapping a={b} and b={a}\")\n",
        "  return(b,a)\n",
        "\n",
        "\n"
      ],
      "metadata": {
        "id": "ikQszPl4wYXi"
      },
      "execution_count": null,
      "outputs": []
    },
    {
      "cell_type": "code",
      "source": [
        "swap(4,5)"
      ],
      "metadata": {
        "colab": {
          "base_uri": "https://localhost:8080/"
        },
        "id": "o5L0h_RSw-wT",
        "outputId": "10f00785-1f70-44fc-d136-3cddf038fa8b"
      },
      "execution_count": null,
      "outputs": [
        {
          "output_type": "stream",
          "name": "stdout",
          "text": [
            "after swapping a=5 and b=4\n"
          ]
        },
        {
          "output_type": "execute_result",
          "data": {
            "text/plain": [
              "(5, 4)"
            ]
          },
          "metadata": {},
          "execution_count": 22
        }
      ]
    },
    {
      "cell_type": "code",
      "source": [
        "# Write a function add_sub(a, b) that returns both sum and difference of two numbers.\n",
        "\n",
        "def add_sub(a,b):\n",
        "  print(f\"addition is {a+b},subtraction is {a-b}\")\n"
      ],
      "metadata": {
        "id": "sNnGR_NOs2l9"
      },
      "execution_count": null,
      "outputs": []
    },
    {
      "cell_type": "code",
      "source": [
        "add_sub(3,5)"
      ],
      "metadata": {
        "colab": {
          "base_uri": "https://localhost:8080/"
        },
        "id": "d10HnO0Ftzvc",
        "outputId": "74f59f34-0b76-4e5e-a9de-f5f6bf5c7bba"
      },
      "execution_count": null,
      "outputs": [
        {
          "output_type": "stream",
          "name": "stdout",
          "text": [
            "addition is 8,subtraction is -2\n"
          ]
        }
      ]
    },
    {
      "cell_type": "code",
      "source": [
        "#Write a function circle_stats(radius) that returns the area and circumference as a tuple.\n",
        "\n",
        "def circle_stats(radius):\n",
        "  area=3.14*radius**2\n",
        "  circumference=2*3.14*radius\n",
        "  return(area,circumference)\n"
      ],
      "metadata": {
        "id": "DijEm_FQt4Wn"
      },
      "execution_count": null,
      "outputs": []
    },
    {
      "cell_type": "code",
      "source": [
        "circle_stats(5)"
      ],
      "metadata": {
        "colab": {
          "base_uri": "https://localhost:8080/"
        },
        "id": "JOxYEpyWyUer",
        "outputId": "80b15269-2d6c-477d-e330-33a69f247dc6"
      },
      "execution_count": null,
      "outputs": [
        {
          "output_type": "execute_result",
          "data": {
            "text/plain": [
              "(78.5, 31.400000000000002)"
            ]
          },
          "metadata": {},
          "execution_count": 24
        }
      ]
    },
    {
      "cell_type": "code",
      "source": [
        "#Write a function min_max_sum(nums) that returns the minimum, maximum, and sum of a list.\n",
        "\n",
        "def min_max_sum(nums):\n",
        "  minimum = min(nums)\n",
        "  maximum = max(nums)\n",
        "  total_sum = sum(nums)\n",
        "  return (minimum, maximum, total_sum)"
      ],
      "metadata": {
        "id": "yyB6mOvMybA0"
      },
      "execution_count": null,
      "outputs": []
    },
    {
      "cell_type": "code",
      "source": [
        "min_max_sum([1,4,5])"
      ],
      "metadata": {
        "colab": {
          "base_uri": "https://localhost:8080/"
        },
        "id": "BF8934kE01ZQ",
        "outputId": "748adaf2-444b-4b04-8907-7c37a06034af"
      },
      "execution_count": null,
      "outputs": [
        {
          "output_type": "execute_result",
          "data": {
            "text/plain": [
              "(1, 5, 10)"
            ]
          },
          "metadata": {},
          "execution_count": 27
        }
      ]
    },
    {
      "cell_type": "code",
      "source": [
        "#Write a function concat(*parts) that joins multiple strings together with spaces.\n",
        "def concat(*parts):\n",
        "  return \" \".join(parts)"
      ],
      "metadata": {
        "id": "sIbFthaA3KKn"
      },
      "execution_count": null,
      "outputs": []
    },
    {
      "cell_type": "code",
      "source": [
        "concat(\"i\",\"love\",\"food\")"
      ],
      "metadata": {
        "colab": {
          "base_uri": "https://localhost:8080/",
          "height": 36
        },
        "id": "4Mr1oILS5laG",
        "outputId": "42a449d7-06db-4c43-af94-7b49e562bff9"
      },
      "execution_count": null,
      "outputs": [
        {
          "output_type": "execute_result",
          "data": {
            "text/plain": [
              "'i love food'"
            ],
            "application/vnd.google.colaboratory.intrinsic+json": {
              "type": "string"
            }
          },
          "metadata": {},
          "execution_count": 36
        }
      ]
    },
    {
      "cell_type": "code",
      "source": [
        "#Write a function format_name(first, last=\"\") that returns \"Last, First\" if last name is provided, else \"First\".\n",
        "def format_name(first,last=\"\"):\n",
        "  if last:\n",
        "    return f\"{last}, {first}\"\n",
        "  else:\n",
        "    return first"
      ],
      "metadata": {
        "id": "KDpPUdGU85uc"
      },
      "execution_count": null,
      "outputs": []
    },
    {
      "cell_type": "code",
      "source": [
        "format_name(\"early\",\"sleep\")"
      ],
      "metadata": {
        "colab": {
          "base_uri": "https://localhost:8080/",
          "height": 36
        },
        "id": "565LFVxw-FxW",
        "outputId": "9dfcb8e5-bc74-4064-fa1d-4da02fe5e588"
      },
      "execution_count": null,
      "outputs": [
        {
          "output_type": "execute_result",
          "data": {
            "text/plain": [
              "'sleep, early'"
            ],
            "application/vnd.google.colaboratory.intrinsic+json": {
              "type": "string"
            }
          },
          "metadata": {},
          "execution_count": 39
        }
      ]
    },
    {
      "cell_type": "code",
      "source": [
        "#Write a function greet_user(first, last) that returns a message like \"Welcome, First Last!\".\n",
        "\n",
        "def greet_user(first,last):\n",
        "  print(f\"welcome,{first} {last}\")"
      ],
      "metadata": {
        "id": "xd8VwfPP_606"
      },
      "execution_count": null,
      "outputs": []
    },
    {
      "cell_type": "code",
      "source": [
        "greet_user(\"goodmorning\",\"everyone\")"
      ],
      "metadata": {
        "colab": {
          "base_uri": "https://localhost:8080/"
        },
        "id": "eGSkomGsAd_E",
        "outputId": "6e3d661b-d885-4361-cbab-92039f4ffe73"
      },
      "execution_count": null,
      "outputs": [
        {
          "output_type": "stream",
          "name": "stdout",
          "text": [
            "welcome,goodmorning everyone\n"
          ]
        }
      ]
    },
    {
      "cell_type": "code",
      "source": [
        "#Write a lambda function to add two numbers.\n",
        "\n",
        "result=lambda x,y:x+y\n"
      ],
      "metadata": {
        "id": "LjWDx6ppAwHO"
      },
      "execution_count": null,
      "outputs": []
    },
    {
      "cell_type": "code",
      "source": [
        "print(result(4,5))"
      ],
      "metadata": {
        "colab": {
          "base_uri": "https://localhost:8080/"
        },
        "id": "DZMqQvASBbUB",
        "outputId": "a7422eae-c609-417c-d3a1-8e8fcf408206"
      },
      "execution_count": null,
      "outputs": [
        {
          "output_type": "stream",
          "name": "stdout",
          "text": [
            "9\n"
          ]
        }
      ]
    },
    {
      "cell_type": "code",
      "source": [
        "#Write a lambda function mult = lambda *args: that returns the product of all arguments.\n",
        "def mult(*args):\n",
        "  result=1\n",
        "  for i in args:\n",
        "    result*=i\n",
        "  return result\n"
      ],
      "metadata": {
        "id": "lQGFSZL6Tf0G"
      },
      "execution_count": null,
      "outputs": []
    },
    {
      "cell_type": "code",
      "source": [
        "mult(1,2,3,4)"
      ],
      "metadata": {
        "colab": {
          "base_uri": "https://localhost:8080/"
        },
        "id": "F76xjsVsVH2u",
        "outputId": "88fc8e8d-439d-4473-bf96-fa46ecdd1721"
      },
      "execution_count": null,
      "outputs": [
        {
          "output_type": "execute_result",
          "data": {
            "text/plain": [
              "24"
            ]
          },
          "metadata": {},
          "execution_count": 4
        }
      ]
    },
    {
      "cell_type": "code",
      "source": [
        "#Write a one-line lambda expression to flatten a list of pairs like [(a,b), (c,d)] into [a, b, c, d].\n",
        "flatten_list = lambda list_of_pairs: [item for pair in list_of_pairs for item in pair]"
      ],
      "metadata": {
        "id": "YxZLlojRWBy2"
      },
      "execution_count": null,
      "outputs": []
    },
    {
      "cell_type": "code",
      "source": [
        "#Write a recursive function factorial(n) that returns the factorial of a number.\n",
        "\n",
        "def factorial(n):\n",
        "  if n == 0:\n",
        "    return 1\n",
        "  else:\n",
        "    return n * factorial(n-1)"
      ],
      "metadata": {
        "id": "yh0r04XfYdZo"
      },
      "execution_count": null,
      "outputs": []
    },
    {
      "cell_type": "code",
      "source": [
        "#Write a function apply_twice(func, x) that applies a function twice → func(func(x)).\n",
        "def square(n):\n",
        "  return n**2\n",
        "def apply_twice(func,x):\n",
        "  print(func(func(x)))"
      ],
      "metadata": {
        "id": "2Rim288ioi4u"
      },
      "execution_count": null,
      "outputs": []
    },
    {
      "cell_type": "code",
      "source": [
        "apply_twice(square,5)"
      ],
      "metadata": {
        "colab": {
          "base_uri": "https://localhost:8080/"
        },
        "id": "pXXRyqcyqR6j",
        "outputId": "ff6bcccf-e70c-44e5-9242-ed5f6c88464b"
      },
      "execution_count": null,
      "outputs": [
        {
          "output_type": "stream",
          "name": "stdout",
          "text": [
            "625\n"
          ]
        }
      ]
    },
    {
      "cell_type": "code",
      "source": [
        "#Write a function inner_demo() that defines and calls an inner function inside it.\n",
        "def inner_demo():\n",
        "  message=\"hello\"\n",
        "  def inner_function():\n",
        "    print(message)\n",
        "  inner_function()"
      ],
      "metadata": {
        "id": "4m3I0Dgxsgip"
      },
      "execution_count": null,
      "outputs": []
    },
    {
      "cell_type": "code",
      "source": [
        "inner_demo()\n"
      ],
      "metadata": {
        "colab": {
          "base_uri": "https://localhost:8080/"
        },
        "id": "-FJEocThxALY",
        "outputId": "efca3711-dc89-48cc-e933-1fcfcd8c7925"
      },
      "execution_count": null,
      "outputs": [
        {
          "output_type": "stream",
          "name": "stdout",
          "text": [
            "hello\n"
          ]
        }
      ]
    },
    {
      "cell_type": "code",
      "source": [
        "#Write a function call_function(func, value) that takes another function as a parameter and applies it.\n",
        "def call_function(func,value):\n",
        "  print(func(value))\n",
        "\n",
        "# Define a function to pass as an argument\n",
        "def func(square):\n",
        "\n"
      ],
      "metadata": {
        "id": "GbkwxuR02fRa"
      },
      "execution_count": null,
      "outputs": []
    },
    {
      "cell_type": "code",
      "source": [
        "\n",
        "call_function(square,2)"
      ],
      "metadata": {
        "colab": {
          "base_uri": "https://localhost:8080/"
        },
        "id": "_lBzVcJw6nC9",
        "outputId": "fb8b6a04-45ee-4511-a277-321405595d47"
      },
      "execution_count": null,
      "outputs": [
        {
          "output_type": "stream",
          "name": "stdout",
          "text": [
            "4\n"
          ]
        }
      ]
    },
    {
      "cell_type": "code",
      "source": [
        "#Write a function square_list(nums) that defines a helper function square(x) inside it and returns a list of squares.\n",
        "def square_list(nums):\n",
        "  def square(x):\n",
        "    return x**2\n",
        "  return [square(x) for x in nums]"
      ],
      "metadata": {
        "id": "00hv-WKy7hso"
      },
      "execution_count": null,
      "outputs": []
    },
    {
      "cell_type": "code",
      "source": [
        "square_list([1,2,3,4])"
      ],
      "metadata": {
        "colab": {
          "base_uri": "https://localhost:8080/"
        },
        "id": "I1OYC4BYBJTH",
        "outputId": "232767af-586c-4cde-b58d-deb1365bb4fe"
      },
      "execution_count": null,
      "outputs": [
        {
          "output_type": "execute_result",
          "data": {
            "text/plain": [
              "[1, 4, 9, 16]"
            ]
          },
          "metadata": {},
          "execution_count": 40
        }
      ]
    },
    {
      "cell_type": "code",
      "source": [
        "#Write a function make_multiplier(m) that returns a new function which multiplies input values by m.\n",
        "def make_multiplier(m):\n",
        "  def multiplier(value):\n",
        "    return value * m\n",
        "  return multiplier # This return statement needs to be inside make_multiplier"
      ],
      "metadata": {
        "id": "4jteiEzdCRcF"
      },
      "execution_count": null,
      "outputs": []
    },
    {
      "cell_type": "code",
      "source": [
        "make_multiplier(5)"
      ],
      "metadata": {
        "id": "ftITp5UcDj7D"
      },
      "execution_count": null,
      "outputs": []
    },
    {
      "cell_type": "code",
      "source": [
        "#write a function filter_primes(nums) that filters prime numbers using a helper is_prime() function\n",
        "def filter_primes(nums):\n",
        "  def is_prime(n):\n",
        "    if n <= 1:\n",
        "      return False\n",
        "    for i in range(2, int(n**0.5) + 1):\n",
        "      if n % i == 0:\n",
        "        return False\n",
        "    return True\n",
        "\n",
        "  return [n for n in nums if is_prime(n)]"
      ],
      "metadata": {
        "id": "suB_Du8FDsqo"
      },
      "execution_count": null,
      "outputs": []
    },
    {
      "cell_type": "code",
      "source": [
        "#24.    Write a function convert_to_fahrenheit(celsius_list) using map and a lambda.\n",
        "def convert_to_fahrenheit(celsius_list):\n",
        "  return list(map(lambda celsius: (celsius * 9/5) + 32, celsius_list))\n",
        "\n",
        "fahrenheit_list = convert_to_fahrenheit([10, 20, 30])\n",
        "print(fahrenheit_list)"
      ],
      "metadata": {
        "colab": {
          "base_uri": "https://localhost:8080/"
        },
        "id": "_y0MUg2b24w9",
        "outputId": "35919a11-615c-447f-cda4-b9f6ffb31b9b"
      },
      "execution_count": null,
      "outputs": [
        {
          "output_type": "stream",
          "name": "stdout",
          "text": [
            "[50.0, 68.0, 86.0]\n"
          ]
        }
      ]
    },
    {
      "cell_type": "code",
      "source": [
        "#25.    Write a function apply_if(func, predicate, iterable) that applies a function only to items that pass a condition.\n",
        "def apply_if(func, predicate, iterable):\n",
        "  result = []\n",
        "  for item in iterable:\n",
        "    if predicate(item):\n",
        "      result.append(func(item))\n",
        "    else:\n",
        "      result.append(item)\n",
        "  return result"
      ],
      "metadata": {
        "id": "8gSq7dMf7YGO"
      },
      "execution_count": null,
      "outputs": []
    },
    {
      "cell_type": "code",
      "source": [
        "#26.\tWrite a function curry(func) that converts a two-argument function into a curried version → can be called as f(a)(b).\n",
        "def curry(func):\n",
        "  def curried_func(a):\n",
        "    def inner_func(b):\n",
        "      return func(a, b)\n",
        "    return inner_func\n",
        "  return curried_func\n",
        "\n",
        "\n"
      ],
      "metadata": {
        "id": "xchIyn0B9nfq"
      },
      "execution_count": null,
      "outputs": []
    },
    {
      "cell_type": "code",
      "source": [
        "#27.\tWrite a function variadic_sum(*args, **kwargs) that sums all positional arguments and multiplies by a scale factor if provided.\n",
        "def variadic_sum(*args, **kwargs):\n",
        "  total = sum(args)\n",
        "  scale_factor = kwargs.get('scale_factor', 1)\n",
        "  return total * scale_factor"
      ],
      "metadata": {
        "id": "jKaP_q7n_mi3"
      },
      "execution_count": null,
      "outputs": []
    },
    {
      "cell_type": "code",
      "source": [
        "#28.\tWrite a function sort_by_length(strings) that sorts a list of strings by their length using a lambda as key.\n",
        "def sort_by_length(strings):\n",
        "  return sorted(strings, key=lambda x: len(x))\n",
        "  sorted_list=sort_by_length([\"apple\", \"banana\", \"cherry\", \"date\"])\n",
        "  print(sorted_list)"
      ],
      "metadata": {
        "id": "VJj_XbqnC6sJ"
      },
      "execution_count": null,
      "outputs": []
    },
    {
      "cell_type": "code",
      "source": [
        "#29.\tCreate [1,2,3,4] → list of their squares.\n",
        "a=[ 1,2,3,4]\n",
        "b=[x**2 for x in a]\n",
        "print(b)"
      ],
      "metadata": {
        "colab": {
          "base_uri": "https://localhost:8080/"
        },
        "id": "vkbiR_ZcDi-v",
        "outputId": "00689a89-dc43-491f-91c8-9bedfa6c6269"
      },
      "execution_count": null,
      "outputs": [
        {
          "output_type": "stream",
          "name": "stdout",
          "text": [
            "[1, 4, 9, 16]\n"
          ]
        }
      ]
    },
    {
      "cell_type": "code",
      "source": [
        "#30.\tCreate ['a','b','c'] → list of their uppercase versions.\n",
        "x=['a','b','c']\n",
        "y=[i.upper() for i in x]\n",
        "print(y)"
      ],
      "metadata": {
        "colab": {
          "base_uri": "https://localhost:8080/"
        },
        "id": "E_vJQWhzDMZD",
        "outputId": "19ed06ab-09b5-4c1f-8747-2c7f7f03d0ff"
      },
      "execution_count": null,
      "outputs": [
        {
          "output_type": "stream",
          "name": "stdout",
          "text": [
            "['A', 'B', 'C']\n"
          ]
        }
      ]
    },
    {
      "cell_type": "code",
      "source": [
        "#31.    Make a list of even numbers from 1 to 20.\n",
        "a=[i for i in range(1,21) if i%2==0]\n",
        "print(a)"
      ],
      "metadata": {
        "colab": {
          "base_uri": "https://localhost:8080/"
        },
        "id": "azf2jt83EtUG",
        "outputId": "6d14878e-f848-4441-daee-ed60feb1f7ac"
      },
      "execution_count": null,
      "outputs": [
        {
          "output_type": "stream",
          "name": "stdout",
          "text": [
            "[2, 4, 6, 8, 10, 12, 14, 16, 18, 20]\n"
          ]
        }
      ]
    },
    {
      "cell_type": "code",
      "source": [
        "#32.\tGiven words = ['apple', 'bee', 'cat'], create [(word, len(word)) for word in words].\n",
        "a=['apple', 'bee', 'cat']\n",
        "b=[(word,len(word)) for word in a]\n",
        "print(b)"
      ],
      "metadata": {
        "colab": {
          "base_uri": "https://localhost:8080/"
        },
        "id": "JkeA_p9ZFIM2",
        "outputId": "f10897b1-12fc-4a8b-f306-cef2410d79e5"
      },
      "execution_count": null,
      "outputs": [
        {
          "output_type": "stream",
          "name": "stdout",
          "text": [
            "[('apple', 5), ('bee', 3), ('cat', 3)]\n"
          ]
        }
      ]
    },
    {
      "cell_type": "code",
      "source": [
        "#33.    Flatten [[1,2], [3,4], [5]] → [1,2,3,4,5].\n",
        "a=[[1,2],[3,4],[5]]\n",
        "flattened_list = [item for sublist in a for item in sublist]\n",
        "print(flattened_list)"
      ],
      "metadata": {
        "colab": {
          "base_uri": "https://localhost:8080/"
        },
        "id": "w9GUnUDxFd_g",
        "outputId": "0120c43a-4a65-4e28-a372-9297476476f0"
      },
      "execution_count": null,
      "outputs": [
        {
          "output_type": "stream",
          "name": "stdout",
          "text": [
            "[1, 2, 3, 4, 5]\n"
          ]
        }
      ]
    },
    {
      "cell_type": "code",
      "source": [
        "#34.    From nums = [0,1,2,3], create a list of 'even' or 'odd' strings.\n",
        "nums=[0,1,2,3]\n",
        "result = ['even' if x % 2 == 0 else 'odd' for x in nums]\n",
        "print(result)"
      ],
      "metadata": {
        "colab": {
          "base_uri": "https://localhost:8080/"
        },
        "id": "o8lFaohyGUBT",
        "outputId": "895eaba8-4448-4125-f1f0-07f281bb63b8"
      },
      "execution_count": null,
      "outputs": [
        {
          "output_type": "stream",
          "name": "stdout",
          "text": [
            "['even', 'odd', 'even', 'odd']\n"
          ]
        }
      ]
    },
    {
      "cell_type": "code",
      "source": [
        "#35.    Using a comprehension, make a list of booleans showing if numbers in a list are prime (use helper function).\n",
        "nums=[1,5,7,3,13,17,2,4]\n",
        "\n",
        "# Define a helper function\n",
        "def is_prime(n):\n",
        "  if n <= 1:\n",
        "    return False\n",
        "  for i in range(2, int(n**0.5) + 1):\n",
        "    if n % i == 0:\n",
        "      return False\n",
        "  return True\n",
        "\n",
        "# Use a list comprehension to create the list of booleans\n",
        "a = [True if is_prime(i) else False for i in nums]\n",
        "print(a)"
      ],
      "metadata": {
        "colab": {
          "base_uri": "https://localhost:8080/"
        },
        "id": "3GanaxKCGr0r",
        "outputId": "5a812cca-1f8d-43e9-924c-569f3f94ad04"
      },
      "execution_count": null,
      "outputs": [
        {
          "output_type": "stream",
          "name": "stdout",
          "text": [
            "[False, True, True, True, True, True, True, False]\n"
          ]
        }
      ]
    },
    {
      "cell_type": "code",
      "source": [
        "#36.    From range(1,50), select numbers divisible by both 2 and 3.\n",
        "a = [i for i in range(1, 50) if i % 2 == 0 and i % 3 == 0]\n",
        "print(a)"
      ],
      "metadata": {
        "colab": {
          "base_uri": "https://localhost:8080/"
        },
        "id": "xPlNx8WcIbry",
        "outputId": "57f41281-58d5-4dc1-feb3-3d1a37229926"
      },
      "execution_count": null,
      "outputs": [
        {
          "output_type": "stream",
          "name": "stdout",
          "text": [
            "[6, 12, 18, 24, 30, 36, 42, 48]\n"
          ]
        }
      ]
    },
    {
      "cell_type": "code",
      "source": [
        "#37.    Create coordinate pairs (i, j) where i and j go from 0 to 2.\n",
        "a=[(i, j) for i in range(0, 3) for j in range(0, 3)]\n",
        "print(a)"
      ],
      "metadata": {
        "colab": {
          "base_uri": "https://localhost:8080/"
        },
        "id": "Vo84NCf-J6Nv",
        "outputId": "ec4d4b1a-1079-4f7f-810a-bedae69560bf"
      },
      "execution_count": null,
      "outputs": [
        {
          "output_type": "stream",
          "name": "stdout",
          "text": [
            "[(0, 0), (0, 1), (0, 2), (1, 0), (1, 1), (1, 2), (2, 0), (2, 1), (2, 2)]\n"
          ]
        }
      ]
    },
    {
      "cell_type": "code",
      "source": [
        "#38.    From ['a b','c d e'], produce a flat list of all words.\n",
        "x = ['a b','c d e']\n",
        "a = [word for string in x for word in string.split()]\n",
        "print(a)"
      ],
      "metadata": {
        "colab": {
          "base_uri": "https://localhost:8080/"
        },
        "id": "-2m5kQ6PKSnP",
        "outputId": "32fa470a-5982-47a6-ad7e-8e371c531165"
      },
      "execution_count": null,
      "outputs": [
        {
          "output_type": "stream",
          "name": "stdout",
          "text": [
            "['a', 'b', 'c', 'd', 'e']\n"
          ]
        }
      ]
    },
    {
      "cell_type": "code",
      "source": [
        "#39.    Given students = [{'name':'A','score':80}, {'name':'B','score':60}], Create a list of names of students with score ≥ 75.\n",
        "students = [{'name':'A','score':80}, {'name':'B','score':60}]\n",
        "a = [student['name'] for student in students if student['score'] >= 75]\n",
        "print(a)"
      ],
      "metadata": {
        "colab": {
          "base_uri": "https://localhost:8080/"
        },
        "id": "EMpYSlgiLMAU",
        "outputId": "43d26d12-8f31-4699-8c3c-9f8b7c565ac4"
      },
      "execution_count": null,
      "outputs": [
        {
          "output_type": "stream",
          "name": "stdout",
          "text": [
            "['A']\n"
          ]
        }
      ]
    },
    {
      "cell_type": "code",
      "source": [
        "#40.    Build a list of dictionaries like {'n': n, 'square': n*n} for numbers 1 to 10.\n",
        "list_of_dicts = [{'n': n, 'square': n*n} for n in range(1, 11)]\n",
        "print(list_of_dicts)"
      ],
      "metadata": {
        "colab": {
          "base_uri": "https://localhost:8080/"
        },
        "id": "evI5S5S6MQ_M",
        "outputId": "c63cdbc4-aa7b-4625-e179-d3d696fded59"
      },
      "execution_count": null,
      "outputs": [
        {
          "output_type": "stream",
          "name": "stdout",
          "text": [
            "[{'n': 1, 'square': 1}, {'n': 2, 'square': 4}, {'n': 3, 'square': 9}, {'n': 4, 'square': 16}, {'n': 5, 'square': 25}, {'n': 6, 'square': 36}, {'n': 7, 'square': 49}, {'n': 8, 'square': 64}, {'n': 9, 'square': 81}, {'n': 10, 'square': 100}]\n"
          ]
        }
      ]
    },
    {
      "cell_type": "code",
      "source": [
        "#41.\tMerge two lists element-wise into tuples, but include only pairs where both elements are truthy.\n",
        "a=[1,2,3,4,5,6]\n",
        "b=[8,9,10,11,12,13]\n",
        "c=list(zip(a,b))\n",
        "print(c)\n"
      ],
      "metadata": {
        "colab": {
          "base_uri": "https://localhost:8080/"
        },
        "id": "nvbo4FLGni9h",
        "outputId": "f55efaa4-fce4-44e0-b703-474e1e934be8"
      },
      "execution_count": null,
      "outputs": [
        {
          "output_type": "stream",
          "name": "stdout",
          "text": [
            "[(1, 8), (2, 9), (3, 10), (4, 11), (5, 12), (6, 13)]\n"
          ]
        }
      ]
    },
    {
      "cell_type": "code",
      "source": [
        "#42.    Create a comprehension to transpose a matrix (swap rows ↔ columns).\n",
        "matrix = [[1, 2, 3], [4, 5, 6]]\n",
        "transposed_matrix = [[row[i] for row in matrix] for i in range(len(matrix[0]))]\n",
        "print(transposed_matrix)"
      ],
      "metadata": {
        "colab": {
          "base_uri": "https://localhost:8080/"
        },
        "id": "qI9SK9rEoHj8",
        "outputId": "22b52e8d-e607-404a-c5ec-11bb0a628b22"
      },
      "execution_count": null,
      "outputs": [
        {
          "output_type": "stream",
          "name": "stdout",
          "text": [
            "[[1, 4], [2, 5], [3, 6]]\n"
          ]
        }
      ]
    },
    {
      "cell_type": "code",
      "source": [
        "#43.\tFlatten a 3-level nested list [[[1,2],[3]],[[4]]] into a single flat list.\n",
        "a=[[[1,2],[3]],[[4]]]\n",
        "b=[item for sublist in a for sublist2 in sublist for item in sublist2]\n",
        "print(b)"
      ],
      "metadata": {
        "colab": {
          "base_uri": "https://localhost:8080/"
        },
        "id": "tEzsrEjxoniC",
        "outputId": "d67e96ee-455e-41ad-816b-613f638a12c8"
      },
      "execution_count": null,
      "outputs": [
        {
          "output_type": "stream",
          "name": "stdout",
          "text": [
            "[1, 2, 3, 4]\n"
          ]
        }
      ]
    },
    {
      "cell_type": "code",
      "source": [
        "#.44.   Write a comprehension that keeps only unique items from a list while preserving order.\n",
        "a=[1,1,3,4,5,2,4,7]\n",
        "\n",
        "seen = set()\n",
        "b = [x for x in a if not (x in seen or seen.add(x))]\n",
        "print(b)"
      ],
      "metadata": {
        "colab": {
          "base_uri": "https://localhost:8080/"
        },
        "id": "-1MLHh25qx4V",
        "outputId": "7f9fd03e-396f-48f1-9171-d899d3355753"
      },
      "execution_count": null,
      "outputs": [
        {
          "output_type": "stream",
          "name": "stdout",
          "text": [
            "[1, 3, 4, 5, 2, 7]\n"
          ]
        }
      ]
    },
    {
      "cell_type": "code",
      "source": [
        "#45.    Find all indices (positions) where a given number appears in a list\n",
        "given_num = 5\n",
        "my_list = [1, 2, 5, 4, 2, 5, 5, 6]\n",
        "\n",
        "# Using a list comprehension with enumerate to find all indices\n",
        "indices = [index for index, value in enumerate(my_list) if value == given_num]\n",
        "print(indices)"
      ],
      "metadata": {
        "colab": {
          "base_uri": "https://localhost:8080/"
        },
        "id": "5IqMOEFrtcm4",
        "outputId": "4604e1e3-9dab-4381-d7bb-9516c3172a9b"
      },
      "execution_count": null,
      "outputs": [
        {
          "output_type": "stream",
          "name": "stdout",
          "text": [
            "[2, 5, 6]\n"
          ]
        }
      ]
    },
    {
      "cell_type": "code",
      "source": [
        "#46.    Generate all palindromic numbers (as strings) between 1 and 999.\n",
        "a=[str(num) for num in range(1,1000) if str(num) == str(num)[::-1]]\n",
        "print(a)"
      ],
      "metadata": {
        "colab": {
          "base_uri": "https://localhost:8080/"
        },
        "id": "ft6tqPw7vDE9",
        "outputId": "97e1c392-88db-4018-fc1f-c48f77cc7ad5"
      },
      "execution_count": null,
      "outputs": [
        {
          "output_type": "stream",
          "name": "stdout",
          "text": [
            "['1', '2', '3', '4', '5', '6', '7', '8', '9', '11', '22', '33', '44', '55', '66', '77', '88', '99', '101', '111', '121', '131', '141', '151', '161', '171', '181', '191', '202', '212', '222', '232', '242', '252', '262', '272', '282', '292', '303', '313', '323', '333', '343', '353', '363', '373', '383', '393', '404', '414', '424', '434', '444', '454', '464', '474', '484', '494', '505', '515', '525', '535', '545', '555', '565', '575', '585', '595', '606', '616', '626', '636', '646', '656', '666', '676', '686', '696', '707', '717', '727', '737', '747', '757', '767', '777', '787', '797', '808', '818', '828', '838', '848', '858', '868', '878', '888', '898', '909', '919', '929', '939', '949', '959', '969', '979', '989', '999']\n"
          ]
        }
      ]
    },
    {
      "cell_type": "code",
      "source": [
        "#47.    Convert a dictionary like {'a':[1,2], 'b':[3]} into a list of (key, value) pairs.\n",
        "x={'a':[1,2], 'b':[3]}\n",
        "y=[(key, value) for key, value in x.items()]\n",
        "print(y)"
      ],
      "metadata": {
        "colab": {
          "base_uri": "https://localhost:8080/"
        },
        "id": "g9KVuHukvyOM",
        "outputId": "114387ae-b9b6-407c-a45f-7a857e4c7507"
      },
      "execution_count": null,
      "outputs": [
        {
          "output_type": "stream",
          "name": "stdout",
          "text": [
            "[('a', [1, 2]), ('b', [3])]\n"
          ]
        }
      ]
    },
    {
      "cell_type": "code",
      "source": [
        "#48.    Create a list of prime pairs (p, q) where both are primes under 100 and p + q is also prime.\n",
        "def is_prime(n):\n",
        "    if n <= 1:\n",
        "        return False\n",
        "    for i in range(2, int(n**0.5) + 1):\n",
        "        if n % i == 0:\n",
        "            return False\n",
        "    return True\n",
        "\n",
        "prime_pairs = [(p, q) for p in range(2, 100) for q in range(2, 100) if is_prime(p) and is_prime(q) and is_prime(p + q)]\n",
        "print(prime_pairs)"
      ],
      "metadata": {
        "colab": {
          "base_uri": "https://localhost:8080/"
        },
        "id": "4gZ0sFxIwf7-",
        "outputId": "21d56784-71a4-4168-dda5-30ef410070a8"
      },
      "execution_count": null,
      "outputs": [
        {
          "output_type": "stream",
          "name": "stdout",
          "text": [
            "[(2, 3), (2, 5), (2, 11), (2, 17), (2, 29), (2, 41), (2, 59), (2, 71), (3, 2), (5, 2), (11, 2), (17, 2), (29, 2), (41, 2), (59, 2), (71, 2)]\n"
          ]
        }
      ]
    },
    {
      "cell_type": "code",
      "source": [
        "#50.    Generate all possible sequences of length 4 from 'abcd' with no repeated letters.\n",
        "import itertools\n",
        "\n",
        "a = \"abcd\"\n",
        "b = list(itertools.permutations(a, 4))\n",
        "print(b)\n",
        "\n"
      ],
      "metadata": {
        "colab": {
          "base_uri": "https://localhost:8080/"
        },
        "id": "oMtONRhRyoq0",
        "outputId": "3be57557-8fad-4acd-a1e6-4ab72aef8ab6"
      },
      "execution_count": null,
      "outputs": [
        {
          "output_type": "stream",
          "name": "stdout",
          "text": [
            "[('a', 'b', 'c', 'd'), ('a', 'b', 'd', 'c'), ('a', 'c', 'b', 'd'), ('a', 'c', 'd', 'b'), ('a', 'd', 'b', 'c'), ('a', 'd', 'c', 'b'), ('b', 'a', 'c', 'd'), ('b', 'a', 'd', 'c'), ('b', 'c', 'a', 'd'), ('b', 'c', 'd', 'a'), ('b', 'd', 'a', 'c'), ('b', 'd', 'c', 'a'), ('c', 'a', 'b', 'd'), ('c', 'a', 'd', 'b'), ('c', 'b', 'a', 'd'), ('c', 'b', 'd', 'a'), ('c', 'd', 'a', 'b'), ('c', 'd', 'b', 'a'), ('d', 'a', 'b', 'c'), ('d', 'a', 'c', 'b'), ('d', 'b', 'a', 'c'), ('d', 'b', 'c', 'a'), ('d', 'c', 'a', 'b'), ('d', 'c', 'b', 'a')]\n"
          ]
        }
      ]
    },
    {
      "cell_type": "code",
      "source": [],
      "metadata": {
        "id": "aDhdbrE3zDZf"
      },
      "execution_count": null,
      "outputs": []
    }
  ]
}