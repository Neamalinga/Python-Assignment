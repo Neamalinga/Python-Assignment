{
  "nbformat": 4,
  "nbformat_minor": 0,
  "metadata": {
    "colab": {
      "provenance": [],
      "authorship_tag": "ABX9TyPPfHMUqutwCIIIujq7x3Gx",
      "include_colab_link": true
    },
    "kernelspec": {
      "name": "python3",
      "display_name": "Python 3"
    },
    "language_info": {
      "name": "python"
    }
  },
  "cells": [
    {
      "cell_type": "markdown",
      "metadata": {
        "id": "view-in-github",
        "colab_type": "text"
      },
      "source": [
        "<a href=\"https://colab.research.google.com/github/Neamalinga/Python-Assignment/blob/main/PYTHON_ASSIGNMENT.ipynb\" target=\"_parent\"><img src=\"https://colab.research.google.com/assets/colab-badge.svg\" alt=\"Open In Colab\"/></a>"
      ]
    },
    {
      "cell_type": "code",
      "execution_count": null,
      "metadata": {
        "colab": {
          "base_uri": "https://localhost:8080/"
        },
        "id": "YPd8ghpUcKK9",
        "outputId": "2d9e606e-3a13-43fa-d181-e7e5bc7352cb"
      },
      "outputs": [
        {
          "output_type": "stream",
          "name": "stdout",
          "text": [
            "Hello,World\n"
          ]
        }
      ],
      "source": [
        "print(\"Hello,World\")"
      ]
    },
    {
      "cell_type": "code",
      "source": [
        "##TAKE USER INPUT AND PRINT IT\n",
        "abc=input(\"name\")\n",
        "print(abc)"
      ],
      "metadata": {
        "colab": {
          "base_uri": "https://localhost:8080/"
        },
        "id": "4nJOB839dTkQ",
        "outputId": "d2148cdd-612f-4547-be08-f06ffa6056ab"
      },
      "execution_count": null,
      "outputs": [
        {
          "output_type": "stream",
          "name": "stdout",
          "text": [
            "namepriya\n",
            "priya\n"
          ]
        }
      ]
    },
    {
      "cell_type": "code",
      "source": [
        "a=10\n",
        "b=4\n",
        "#after swaping\n",
        "print(f\"the value of a is {b},the value of b is {a}\")"
      ],
      "metadata": {
        "colab": {
          "base_uri": "https://localhost:8080/"
        },
        "id": "7mMeHOWGeD1g",
        "outputId": "ede6e2f0-1ad3-4b31-81fd-d708bd0e2aa4"
      },
      "execution_count": null,
      "outputs": [
        {
          "output_type": "stream",
          "name": "stdout",
          "text": [
            "the value of a is 4,the value of b is 10\n"
          ]
        }
      ]
    },
    {
      "cell_type": "code",
      "source": [
        "#check if a number is even or odd\n",
        "a =4\n",
        "if a %2==0:\n",
        "  print(\"even\")\n",
        "else:\n",
        "  print(\"odd\")"
      ],
      "metadata": {
        "colab": {
          "base_uri": "https://localhost:8080/"
        },
        "id": "tcd3lei1efw_",
        "outputId": "d150f6d5-5fd9-418b-a3c5-9272a534601e"
      },
      "execution_count": null,
      "outputs": [
        {
          "output_type": "stream",
          "name": "stdout",
          "text": [
            "even\n"
          ]
        }
      ]
    },
    {
      "cell_type": "code",
      "source": [
        "#find the largest of two numbers\n",
        "a=15\n",
        "b=20\n",
        "if a>b:\n",
        "  print(\"a is greater\")\n",
        "else:\n",
        "  print(\"b is greater\")\n"
      ],
      "metadata": {
        "colab": {
          "base_uri": "https://localhost:8080/"
        },
        "id": "SssqLMPygenu",
        "outputId": "044409d8-a480-421d-d450-6f3690f7a1a1"
      },
      "execution_count": null,
      "outputs": [
        {
          "output_type": "stream",
          "name": "stdout",
          "text": [
            "b is greater\n"
          ]
        }
      ]
    },
    {
      "cell_type": "code",
      "source": [
        "#perform arthimetic operations (+,-,/,*,**)take any values as \"a\"and \"b\"\n",
        "a=16\n",
        "b=3\n",
        "print(f\"the sum of a and b is {a+b}\")\n",
        "print(f\"the difference of a and b is {a-b}\")\n",
        "print(f\"the product of a and b is {a*b}\")\n",
        "print(f\"the division of a and b is {a/b}\")\n",
        "print(f\"the power of a and b is {a**b}\")"
      ],
      "metadata": {
        "id": "rNSc17tHg68A",
        "colab": {
          "base_uri": "https://localhost:8080/"
        },
        "outputId": "4591a074-c843-4d70-d386-b1e7cae07606"
      },
      "execution_count": null,
      "outputs": [
        {
          "output_type": "stream",
          "name": "stdout",
          "text": [
            "the sum of a and b is 19\n",
            "the difference of a and b is 13\n",
            "the product of a and b is 48\n",
            "the division of a and b is 5.333333333333333\n",
            "the power of a and b is 4096\n"
          ]
        }
      ]
    },
    {
      "cell_type": "code",
      "source": [
        "#caluculate the square and cube of a number\n",
        "a=2\n",
        "print(f\"the square and cube of a is {a**2},{a**3}\")"
      ],
      "metadata": {
        "colab": {
          "base_uri": "https://localhost:8080/"
        },
        "id": "cg65iXpLoSAE",
        "outputId": "4fb6f4f3-7261-4f6e-ed72-5fbbea764505"
      },
      "execution_count": null,
      "outputs": [
        {
          "output_type": "stream",
          "name": "stdout",
          "text": [
            "the square and cube of a is 4,8\n"
          ]
        }
      ]
    },
    {
      "cell_type": "code",
      "source": [
        "#convert celsius to farenheit F=(c*9/5)+32)\n",
        "celsius = 30\n",
        "fahrenheit = (celsius * 9/5) + 32\n",
        "print(f\"{celsius} degrees Celsius is equal to {fahrenheit} degrees Fahrenheit\")"
      ],
      "metadata": {
        "colab": {
          "base_uri": "https://localhost:8080/"
        },
        "id": "qUPFXYUPop3q",
        "outputId": "9256237c-41fa-4a7b-bd01-307358446ea4"
      },
      "execution_count": null,
      "outputs": [
        {
          "output_type": "stream",
          "name": "stdout",
          "text": [
            "30 degrees Celsius is equal to 86.0 degrees Fahrenheit\n"
          ]
        }
      ]
    },
    {
      "cell_type": "code",
      "source": [
        "# convert kilometers into miles 1km=0.621371 miles\n",
        "kilometrs=10\n",
        "km=0.621371\n",
        "miles = kilometrs * km\n",
        "print(f\"{kilometrs} kilometers is equal to {miles} miles\")"
      ],
      "metadata": {
        "colab": {
          "base_uri": "https://localhost:8080/"
        },
        "id": "715Uu392pNiU",
        "outputId": "191b340e-be02-49b8-f594-29cad9fca011"
      },
      "execution_count": null,
      "outputs": [
        {
          "output_type": "stream",
          "name": "stdout",
          "text": [
            "10 kilometers is equal to 6.21371 miles\n"
          ]
        }
      ]
    },
    {
      "cell_type": "code",
      "source": [
        "# check if a number is postive ,negative or zero\n",
        "a=-7\n",
        "if a>0:\n",
        "  print(\"a is  positive\")\n",
        "elif a<0:\n",
        "  print(\" a is negative\")\n",
        "else:\n",
        "  print(\"a is  zero  \")"
      ],
      "metadata": {
        "colab": {
          "base_uri": "https://localhost:8080/"
        },
        "id": "ocIof54rqFfd",
        "outputId": "1a89ff7b-ef64-4d15-b649-fc4c77aa3b5e"
      },
      "execution_count": null,
      "outputs": [
        {
          "output_type": "stream",
          "name": "stdout",
          "text": [
            " a is negative\n"
          ]
        }
      ]
    },
    {
      "cell_type": "code",
      "source": [
        "# find the largest of three numbers\n",
        "a=12\n",
        "b=13\n",
        "c=14\n",
        "if a>b and a>c:\n",
        "  print(\"a is largest\")\n",
        "elif b>a and b>c:\n",
        "  print(\"b is largest\")\n",
        "else:\n",
        "  print(\"c is largest\")"
      ],
      "metadata": {
        "colab": {
          "base_uri": "https://localhost:8080/"
        },
        "id": "Faleub7xq4XE",
        "outputId": "7cc0af59-17bc-4fe3-e3bd-394b0f16d553"
      },
      "execution_count": null,
      "outputs": [
        {
          "output_type": "stream",
          "name": "stdout",
          "text": [
            "c is largest\n"
          ]
        }
      ]
    },
    {
      "cell_type": "code",
      "source": [
        "# check a year is a leap year\n",
        "year=2024\n",
        "if year%4==0:\n",
        "  print(\" 2024 is a  leap year\")\n",
        "else:\n",
        "  print(\" 2024 is   not a leap year\")"
      ],
      "metadata": {
        "colab": {
          "base_uri": "https://localhost:8080/"
        },
        "id": "nEBvHLdQrkYI",
        "outputId": "cec3cf48-f63f-487a-ddb5-932e3c85a0a6"
      },
      "execution_count": null,
      "outputs": [
        {
          "output_type": "stream",
          "name": "stdout",
          "text": [
            " 2024 is a  leap year\n"
          ]
        }
      ]
    },
    {
      "cell_type": "code",
      "metadata": {
        "colab": {
          "base_uri": "https://localhost:8080/"
        },
        "outputId": "31a91584-6987-4dbb-c30e-018887dc518d",
        "id": "phMbrhVns7X7"
      },
      "source": [
        "# if a character is a vowel or consonant\n",
        "char = 'a'\n",
        "\n",
        "if char.lower() in 'aeiou':\n",
        "  print(f\"{char} is a vowel\")\n",
        "else:\n",
        "  print(f\"{char} is a consonant\")"
      ],
      "execution_count": null,
      "outputs": [
        {
          "output_type": "stream",
          "name": "stdout",
          "text": [
            "a is a vowel\n"
          ]
        }
      ]
    },
    {
      "cell_type": "code",
      "source": [
        "# write a python programm to assign the grades to each subject based on the grade scale\n",
        "scale:\n",
        "student  subject  marks :\n",
        " maths=85\n",
        " science=78\n",
        " english=92\n",
        " grade scale:\n",
        "   A: 90-100\n",
        "   B: 80-89\n",
        "   C: 70-79\n",
        "   D: 60-69\n",
        "   E: 50-59\n",
        "   F: BELOW 50\n",
        "\n",
        "\n"
      ],
      "metadata": {
        "id": "m9GKv6_8tOGk"
      },
      "execution_count": null,
      "outputs": []
    },
    {
      "cell_type": "code",
      "metadata": {
        "colab": {
          "base_uri": "https://localhost:8080/"
        },
        "id": "793e2fc1",
        "outputId": "a35b45f8-203f-481a-d5eb-1fef622da517"
      },
      "source": [
        "# write a python programm to assign the grades to each subject based on the grade scale\n",
        "# student  subject  marks :\n",
        "#  maths=85\n",
        "#  science=78\n",
        "#  english=92\n",
        "#  grade scale:\n",
        "#    A: 90-100\n",
        "#    B: 80-89\n",
        "#    C: 70-79\n",
        "#    D: 60-69\n",
        "#    E: 50-59\n",
        "#    F: BELOW 50\n",
        "\n",
        "maths = 85\n",
        "science = 78\n",
        "english = 92\n",
        "\n",
        "\n"
      ],
      "execution_count": null,
      "outputs": [
        {
          "output_type": "stream",
          "name": "stdout",
          "text": [
            "Maths grade: B\n",
            "Science grade: C\n",
            "English grade: A\n"
          ]
        }
      ]
    },
    {
      "cell_type": "code",
      "metadata": {
        "colab": {
          "base_uri": "https://localhost:8080/"
        },
        "id": "2c6e4184",
        "outputId": "046050c0-7b68-48e7-d3f8-09a125d1b2e7"
      },
      "source": [
        "# write a python programm to assign the grades to each subject based on the grade scale\n",
        "# student  subject  marks :\n",
        "#  maths=85\n",
        "#  science=78\n",
        "#  english=92\n",
        "#  grade scale:\n",
        "#    A: 90-100\n",
        "#    B: 80-89\n",
        "#    C: 70-79\n",
        "#    D: 60-69\n",
        "#    E: 50-59\n",
        "#    F: BELOW 50\n",
        "\n",
        "maths = 85\n",
        "science = 78\n",
        "english = 92\n",
        "\n",
        "def assign_grade(marks):\n",
        "  if 90 <= marks <= 100:\n",
        "    return 'A'\n",
        "  elif 80 <= marks <= 89:\n",
        "    return 'B'\n",
        "  elif 70 <= marks <= 79:\n",
        "    return 'C'\n",
        "  elif 60 <= marks <= 69:\n",
        "    return 'D'\n",
        "  elif 50 <= marks <= 59:\n",
        "    return 'E'\n",
        "  else:\n",
        "    return 'F'\n",
        "\n",
        "print(f\"Maths grade: {assign_grade(maths)}\")\n",
        "print(f\"Science grade: {assign_grade(science)}\")\n",
        "print(f\"English grade: {assign_grade(english)}\")"
      ],
      "execution_count": null,
      "outputs": [
        {
          "output_type": "stream",
          "name": "stdout",
          "text": [
            "Maths grade: B\n",
            "Science grade: C\n",
            "English grade: A\n"
          ]
        }
      ]
    },
    {
      "cell_type": "code",
      "source": [
        "#writre a programm to check a number is divisible by both 5 and 11\n",
        "a=55\n",
        "if a%5==0 and a%11==0:\n",
        "  print(\"a is divisible by both 5 and 11\")\n",
        "else:\n",
        "  print(\"a is not divisible by both 5 and 11\")"
      ],
      "metadata": {
        "colab": {
          "base_uri": "https://localhost:8080/"
        },
        "id": "jpbZ-fW7xBaK",
        "outputId": "195147b5-7ea1-4f4f-8626-3a5486e4d75c"
      },
      "execution_count": null,
      "outputs": [
        {
          "output_type": "stream",
          "name": "stdout",
          "text": [
            "a is divisible by both 5 and 11\n"
          ]
        }
      ]
    },
    {
      "cell_type": "code",
      "source": [
        "# print numbers from 1 to the given number N\n",
        "for i in range(1,35):\n",
        "  print(i, end=\" \")"
      ],
      "metadata": {
        "id": "6ajwa4DOxWnt",
        "colab": {
          "base_uri": "https://localhost:8080/"
        },
        "outputId": "6636376d-0993-4183-8f85-4354607b5709"
      },
      "execution_count": null,
      "outputs": [
        {
          "output_type": "stream",
          "name": "stdout",
          "text": [
            "1 2 3 4 5 6 7 8 9 10 11 12 13 14 15 16 17 18 19 20 21 22 23 24 25 26 27 28 29 30 31 32 33 34 "
          ]
        }
      ]
    },
    {
      "cell_type": "code",
      "source": [
        "#print the even numbers upto the given number N\n",
        "for i in range(1,35):\n",
        "  if i%2==0:\n",
        "    print(i, end=\" \")"
      ],
      "metadata": {
        "colab": {
          "base_uri": "https://localhost:8080/"
        },
        "id": "PQx6gVxk9KJn",
        "outputId": "4c255c41-1532-4ec7-a089-a24fe714cba7"
      },
      "execution_count": null,
      "outputs": [
        {
          "output_type": "stream",
          "name": "stdout",
          "text": [
            "2 4 6 8 10 12 14 16 18 20 22 24 26 28 30 32 34 "
          ]
        }
      ]
    },
    {
      "cell_type": "code",
      "source": [
        "# sum of first N natural numbers sum=n*(n+1/2)\n"
      ],
      "metadata": {
        "id": "ctMHa_2M-NxI"
      },
      "execution_count": null,
      "outputs": []
    },
    {
      "cell_type": "code",
      "metadata": {
        "colab": {
          "base_uri": "https://localhost:8080/"
        },
        "id": "6541349d",
        "outputId": "a7e163a1-fb09-4710-df54-27f2f8e94698"
      },
      "source": [
        "# sum of first N natural numbers sum=n*(n+1/2)\n",
        "\n",
        "# Define the number N\n",
        "n = 10\n",
        "\n",
        "# Calculate the sum using the formula\n",
        "sum_of_naturals = n * (n + 1) // 2\n",
        "\n",
        "# Print the result\n",
        "print(f\"The sum of the first {n} natural numbers is: {sum_of_naturals}\")"
      ],
      "execution_count": null,
      "outputs": [
        {
          "output_type": "stream",
          "name": "stdout",
          "text": [
            "The sum of the first 10 natural numbers is: 55\n"
          ]
        }
      ]
    },
    {
      "cell_type": "code",
      "source": [
        "# calculate the factorial of a number (n!=n*(n-1)*.....*1)\n",
        "Factorial=1\n",
        "for i in range(1,6):\n",
        "  Factorial=Factorial*i\n",
        "print(Factorial)"
      ],
      "metadata": {
        "colab": {
          "base_uri": "https://localhost:8080/"
        },
        "id": "fULFdKNmA7aP",
        "outputId": "9cd3aaca-59a7-41f2-9421-f7a21b547652"
      },
      "execution_count": null,
      "outputs": [
        {
          "output_type": "stream",
          "name": "stdout",
          "text": [
            "120\n"
          ]
        }
      ]
    },
    {
      "cell_type": "code",
      "source": [
        "#print the multiplication of a number\n",
        "for i in range(10):\n",
        "  print(f\"iterating value{2*i}\")"
      ],
      "metadata": {
        "colab": {
          "base_uri": "https://localhost:8080/"
        },
        "id": "sJiDUqVQCCvf",
        "outputId": "5762d6c5-5b64-4d42-f813-0da878886556"
      },
      "execution_count": null,
      "outputs": [
        {
          "output_type": "stream",
          "name": "stdout",
          "text": [
            "iterating value0\n",
            "iterating value2\n",
            "iterating value4\n",
            "iterating value6\n",
            "iterating value8\n",
            "iterating value10\n",
            "iterating value12\n",
            "iterating value14\n",
            "iterating value16\n",
            "iterating value18\n"
          ]
        }
      ]
    },
    {
      "cell_type": "code",
      "source": [
        "#write a programm to reverse a given (at least 2 ways)\n",
        "my_string = \"Hello, World!\"\n",
        "reversed_string = my_string[::-1]\n",
        "print(reversed_string)\n"
      ],
      "metadata": {
        "colab": {
          "base_uri": "https://localhost:8080/"
        },
        "id": "P2RjApx4DEiu",
        "outputId": "fb7fdfbd-d8e3-48fa-8caf-7a3dd9216453"
      },
      "execution_count": null,
      "outputs": [
        {
          "output_type": "stream",
          "name": "stdout",
          "text": [
            "!dlroW ,olleH\n"
          ]
        }
      ]
    },
    {
      "cell_type": "code",
      "source": [
        "my_string=\"hello\"\n",
        "for i in range(len(my_string)-1,-1,-1):\n",
        "  print(my_string[i],end=\"\")"
      ],
      "metadata": {
        "colab": {
          "base_uri": "https://localhost:8080/"
        },
        "id": "Hc-ZILWpEMOM",
        "outputId": "3771699f-a567-45af-d0c9-3bde872ee40f"
      },
      "execution_count": null,
      "outputs": [
        {
          "output_type": "stream",
          "name": "stdout",
          "text": [
            "olleh"
          ]
        }
      ]
    },
    {
      "cell_type": "code",
      "source": [
        "#count the number of vowels in a string\n",
        "Sen=\"people love food\"\n",
        "count = 0\n",
        "for i in Sen:\n",
        "  if i.lower() in \"aeiou\":\n",
        "    count += 1\n",
        "print(f\"The number of vowels in the string is: {count}\")"
      ],
      "metadata": {
        "colab": {
          "base_uri": "https://localhost:8080/"
        },
        "id": "EcbVGEBbEwLE",
        "outputId": "8af8fd6d-b240-468b-ec7d-22baa0b091a8"
      },
      "execution_count": null,
      "outputs": [
        {
          "output_type": "stream",
          "name": "stdout",
          "text": [
            "The number of vowels in the string is: 7\n"
          ]
        }
      ]
    },
    {
      "cell_type": "code",
      "source": [
        "#check if a string is a palindrome\n",
        "my_string=\"madam\"\n",
        "reversed_string = my_string[::-1]\n",
        "if my_string==reversed_string:\n",
        "  print(\"palindrome\")\n",
        "else:\n",
        "  print(\"not palindrome\")"
      ],
      "metadata": {
        "colab": {
          "base_uri": "https://localhost:8080/"
        },
        "id": "X04QUojdHMjZ",
        "outputId": "d18da131-05a0-4ec4-a6cc-6539cd5a8794"
      },
      "execution_count": null,
      "outputs": [
        {
          "output_type": "stream",
          "name": "stdout",
          "text": [
            "palindrome\n"
          ]
        }
      ]
    },
    {
      "cell_type": "code",
      "source": [
        "#covert the upper case to lower case and viceversa\n",
        "my_string=\"MADAM\"\n",
        "lower_case_string = my_string.lower()\n",
        "print(lower_case_string)"
      ],
      "metadata": {
        "colab": {
          "base_uri": "https://localhost:8080/"
        },
        "id": "-Z953HZlJvzY",
        "outputId": "cfa5645a-f1be-4c3a-d742-733a2f2c1a35"
      },
      "execution_count": null,
      "outputs": [
        {
          "output_type": "stream",
          "name": "stdout",
          "text": [
            "madam\n"
          ]
        }
      ]
    },
    {
      "cell_type": "code",
      "source": [
        "my_string=\"priya\"\n",
        "upper_case_string = my_string.upper()\n",
        "print(upper_case_string)"
      ],
      "metadata": {
        "colab": {
          "base_uri": "https://localhost:8080/"
        },
        "id": "BLM9ynTiKpk6",
        "outputId": "c1e0a4f6-e268-48f0-f7cb-df788b7840b8"
      },
      "execution_count": null,
      "outputs": [
        {
          "output_type": "stream",
          "name": "stdout",
          "text": [
            "PRIYA\n"
          ]
        }
      ]
    },
    {
      "cell_type": "code",
      "source": [
        "#find the length without using length function\n",
        "my_string=\"PRIYA\"\n",
        "count=0\n",
        "for i in my_string:\n",
        "  count+=1\n",
        "print(count)"
      ],
      "metadata": {
        "colab": {
          "base_uri": "https://localhost:8080/"
        },
        "id": "jDWiU7JvK1hS",
        "outputId": "ca8e9ff4-f474-4799-d4e3-a1c61b162ddd"
      },
      "execution_count": null,
      "outputs": [
        {
          "output_type": "stream",
          "name": "stdout",
          "text": [
            "5\n"
          ]
        }
      ]
    },
    {
      "cell_type": "code",
      "source": [
        "#find the largest element of a list\n",
        "a=[1,2,3,4,5]\n",
        "largest=a[0]\n",
        "for i in a:\n",
        "  if i>largest:\n",
        "    largest=i\n",
        "print(largest)\n"
      ],
      "metadata": {
        "colab": {
          "base_uri": "https://localhost:8080/"
        },
        "id": "L51dLK0xNTl0",
        "outputId": "af079968-b5ac-4f4c-fa1b-0eb9ca582cd0"
      },
      "execution_count": null,
      "outputs": [
        {
          "output_type": "stream",
          "name": "stdout",
          "text": [
            "5\n"
          ]
        }
      ]
    },
    {
      "cell_type": "code",
      "source": [
        "# find the smallest element of a list\n",
        "my_list = [1, 2, 3, 4, 5]\n",
        "smallest = my_list[0]\n",
        "for element in my_list:\n",
        "  if element < smallest:\n",
        "    smallest = element\n",
        "print(f\"The smallest element in the list is: {smallest}\")"
      ],
      "metadata": {
        "colab": {
          "base_uri": "https://localhost:8080/"
        },
        "id": "zYlalgKJN-V9",
        "outputId": "d8984691-1628-48fb-d23d-12db9ff49df2"
      },
      "execution_count": null,
      "outputs": [
        {
          "output_type": "stream",
          "name": "stdout",
          "text": [
            "The smallest element in the list is: 1\n"
          ]
        }
      ]
    },
    {
      "cell_type": "code",
      "source": [
        "#find the sum of elements of a list\n",
        "my_list = [1, 2, 3, 4, 5]\n",
        "total = 0\n",
        "for element in my_list:\n",
        "  total += element\n",
        "print(f\"The sum of elements in the list is: {total}\")"
      ],
      "metadata": {
        "colab": {
          "base_uri": "https://localhost:8080/"
        },
        "id": "xOTFyReIQDZ3",
        "outputId": "a1746268-8eca-4c27-90fd-c254da16c7eb"
      },
      "execution_count": null,
      "outputs": [
        {
          "output_type": "stream",
          "name": "stdout",
          "text": [
            "The sum of elements in the list is: 15\n"
          ]
        }
      ]
    },
    {
      "cell_type": "code",
      "source": [
        "#remove duplicates froma list\n",
        "my_list = [1, 2, 2, 3, 4, 4, 5]\n",
        "unique_list = []\n",
        "for element in my_list:\n",
        "  if element not in unique_list:\n",
        "    unique_list.append(element)"
      ],
      "metadata": {
        "id": "BFgGwCJoRZrk"
      },
      "execution_count": null,
      "outputs": []
    },
    {
      "cell_type": "code",
      "source": [
        "unique_list"
      ],
      "metadata": {
        "colab": {
          "base_uri": "https://localhost:8080/"
        },
        "id": "QzBXyLkMRnWq",
        "outputId": "14ee94de-e27d-4085-e971-c8bdad8b91e5"
      },
      "execution_count": null,
      "outputs": [
        {
          "output_type": "execute_result",
          "data": {
            "text/plain": [
              "[1, 2, 3, 4, 5]"
            ]
          },
          "metadata": {},
          "execution_count": 43
        }
      ]
    },
    {
      "cell_type": "code",
      "source": [
        "#sort a list in ascending order\n",
        "my_list = [5, 2, 9, 1, 7]\n",
        "sorted_list = sorted(my_list)\n",
        "print(sorted_list)"
      ],
      "metadata": {
        "colab": {
          "base_uri": "https://localhost:8080/"
        },
        "id": "Sgsn1w72R9MM",
        "outputId": "f3ec2923-8a47-4045-96fe-735d6f15fc32"
      },
      "execution_count": null,
      "outputs": [
        {
          "output_type": "stream",
          "name": "stdout",
          "text": [
            "[1, 2, 5, 7, 9]\n"
          ]
        }
      ]
    },
    {
      "cell_type": "code",
      "source": [
        "#find the maximum and minumum number of tuple\n",
        "my_tuple = (5, 2, 9, 1, 7)\n",
        "maximum = max(my_tuple)\n",
        "minimum = min(my_tuple)\n",
        "print(maximum)\n",
        "print(minimum)\n"
      ],
      "metadata": {
        "colab": {
          "base_uri": "https://localhost:8080/"
        },
        "id": "qScCW2CyUs7m",
        "outputId": "aaf9ead7-7a90-4a8e-f965-0a12fcf4fcf0"
      },
      "execution_count": null,
      "outputs": [
        {
          "output_type": "stream",
          "name": "stdout",
          "text": [
            "9\n",
            "1\n"
          ]
        }
      ]
    },
    {
      "cell_type": "code",
      "source": [
        "#convert a tuple into list\n",
        "my_tuple = (1, 2, 3, 4, 5)\n",
        "my_list = list(my_tuple)\n",
        "print(my_list)\n"
      ],
      "metadata": {
        "colab": {
          "base_uri": "https://localhost:8080/"
        },
        "id": "YnHXFouXVUZ4",
        "outputId": "3828e30d-6916-441f-c0ba-ce51c8fcf080"
      },
      "execution_count": null,
      "outputs": [
        {
          "output_type": "stream",
          "name": "stdout",
          "text": [
            "[1, 2, 3, 4, 5]\n"
          ]
        }
      ]
    },
    {
      "cell_type": "code",
      "source": [
        "#count the occurences of an element in tuple\n",
        "my_tuple = (1, 2, 3, 2, 4, 2, 5)\n",
        "my_tuple.count(2)\n"
      ],
      "metadata": {
        "colab": {
          "base_uri": "https://localhost:8080/"
        },
        "id": "ZuqDSPTTVmN0",
        "outputId": "3d201054-443e-484c-ae0f-f1a8613f0524"
      },
      "execution_count": null,
      "outputs": [
        {
          "output_type": "execute_result",
          "data": {
            "text/plain": [
              "3"
            ]
          },
          "metadata": {},
          "execution_count": 49
        }
      ]
    },
    {
      "cell_type": "code",
      "source": [
        "#find the index of an element in a tuple\n",
        "my_tuple = (1, 2, 3, 4, 5)\n",
        "my_tuple.index(3)"
      ],
      "metadata": {
        "colab": {
          "base_uri": "https://localhost:8080/"
        },
        "id": "lgC1opDsWnJf",
        "outputId": "ba74704d-7aea-4a36-dcbf-371ddb107491"
      },
      "execution_count": null,
      "outputs": [
        {
          "output_type": "execute_result",
          "data": {
            "text/plain": [
              "2"
            ]
          },
          "metadata": {},
          "execution_count": 50
        }
      ]
    },
    {
      "cell_type": "code",
      "source": [
        "#reverse a tuple\n",
        "my_tuple = (1, 2, 3, 4, 5)\n",
        "reversed_tuple = my_tuple[::-1]\n",
        "print(reversed_tuple)"
      ],
      "metadata": {
        "colab": {
          "base_uri": "https://localhost:8080/"
        },
        "id": "rgDwtKQCWw6v",
        "outputId": "0660438a-3948-4d1c-d501-caaa158ec49a"
      },
      "execution_count": null,
      "outputs": [
        {
          "output_type": "stream",
          "name": "stdout",
          "text": [
            "(5, 4, 3, 2, 1)\n"
          ]
        }
      ]
    },
    {
      "cell_type": "code",
      "source": [
        "#create an empty set\n",
        "empty_set = set()\n",
        "print(empty_set)"
      ],
      "metadata": {
        "colab": {
          "base_uri": "https://localhost:8080/"
        },
        "id": "Xawl7rUYXF1W",
        "outputId": "1d8243fb-9c25-4e96-8570-11840564e0eb"
      },
      "execution_count": null,
      "outputs": [
        {
          "output_type": "stream",
          "name": "stdout",
          "text": [
            "set()\n"
          ]
        }
      ]
    },
    {
      "cell_type": "code",
      "source": [
        "#perform union of two sets\n",
        "a={1,2,3,4,5}\n",
        "b={4,5,6,7,8}\n",
        "a.union(b)\n"
      ],
      "metadata": {
        "id": "6reLmr_6XcTg",
        "colab": {
          "base_uri": "https://localhost:8080/"
        },
        "outputId": "5ec65ee5-3e05-4b0c-cd90-b3885ad9309f"
      },
      "execution_count": null,
      "outputs": [
        {
          "output_type": "execute_result",
          "data": {
            "text/plain": [
              "{1, 2, 3, 4, 5, 6, 7, 8}"
            ]
          },
          "metadata": {},
          "execution_count": 1
        }
      ]
    },
    {
      "cell_type": "code",
      "source": [
        "#perform intersection of two sets\n",
        "a={1,2,3,4,5}\n",
        "b={4,5,6,7}\n",
        "a.intersection(b)"
      ],
      "metadata": {
        "colab": {
          "base_uri": "https://localhost:8080/"
        },
        "id": "MIZ711zkodSU",
        "outputId": "9497e267-1307-4cf2-bbf1-e6bf520a2e57"
      },
      "execution_count": null,
      "outputs": [
        {
          "output_type": "execute_result",
          "data": {
            "text/plain": [
              "{4, 5}"
            ]
          },
          "metadata": {},
          "execution_count": 2
        }
      ]
    },
    {
      "cell_type": "code",
      "source": [
        "#perform difference of two sets\n",
        "a={1,2,3,4}\n",
        "b={3,4}\n",
        "a.difference(b)"
      ],
      "metadata": {
        "colab": {
          "base_uri": "https://localhost:8080/"
        },
        "id": "M1KHq4Z4qQ6S",
        "outputId": "9924bfb5-da44-4af7-f335-ae4f319c39be"
      },
      "execution_count": null,
      "outputs": [
        {
          "output_type": "execute_result",
          "data": {
            "text/plain": [
              "{1, 2}"
            ]
          },
          "metadata": {},
          "execution_count": 3
        }
      ]
    },
    {
      "cell_type": "code",
      "source": [
        "#check if a set is a subset of other\n",
        "a={1,2,3,4,5}\n",
        "b={1,2,3}\n",
        "a.issubset(b)\n"
      ],
      "metadata": {
        "colab": {
          "base_uri": "https://localhost:8080/"
        },
        "id": "Oq-yI6qeridT",
        "outputId": "b44039c9-69c4-4517-9a67-59ab3ab47a83"
      },
      "execution_count": null,
      "outputs": [
        {
          "output_type": "execute_result",
          "data": {
            "text/plain": [
              "False"
            ]
          },
          "metadata": {},
          "execution_count": 4
        }
      ]
    },
    {
      "cell_type": "code",
      "source": [
        "#remove an element from a set\n",
        "my_set = {1, 2, 3, 4, 5}\n",
        "my_set.remove(3)\n",
        "print(my_set)"
      ],
      "metadata": {
        "colab": {
          "base_uri": "https://localhost:8080/"
        },
        "id": "dTy3H_E2rwfV",
        "outputId": "fdf46ff4-b862-4e23-bd64-0182a5633570"
      },
      "execution_count": null,
      "outputs": [
        {
          "output_type": "stream",
          "name": "stdout",
          "text": [
            "{1, 2, 4, 5}\n"
          ]
        }
      ]
    },
    {
      "cell_type": "code",
      "source": [
        "#create a dictionary and print keys and values\n",
        "my_dict = {'a': 1, 'b': 2, 'c': 3}\n",
        "print(my_dict.keys())\n",
        "print(my_dict.values())"
      ],
      "metadata": {
        "colab": {
          "base_uri": "https://localhost:8080/"
        },
        "id": "i0enJaVlr7tU",
        "outputId": "e803322f-8c43-470b-ade9-c2e43a5d120e"
      },
      "execution_count": null,
      "outputs": [
        {
          "output_type": "stream",
          "name": "stdout",
          "text": [
            "dict_keys(['a', 'b', 'c'])\n",
            "dict_values([1, 2, 3])\n"
          ]
        }
      ]
    },
    {
      "cell_type": "code",
      "source": [
        "#find the sum of dictionary values\n",
        "my_dict = {'a': 1, 'b': 2, 'c': 3}\n",
        "total = sum(my_dict.values())\n",
        "print(total)"
      ],
      "metadata": {
        "colab": {
          "base_uri": "https://localhost:8080/"
        },
        "id": "10hkJKq3sQBD",
        "outputId": "0a123a59-1ccd-4e30-b00d-6bf5a218b104"
      },
      "execution_count": null,
      "outputs": [
        {
          "output_type": "stream",
          "name": "stdout",
          "text": [
            "6\n"
          ]
        }
      ]
    },
    {
      "cell_type": "code",
      "source": [
        "#merge two dictionaries\n",
        "dict1 = {'a': 1, 'b': 2}\n",
        "dict2 = {'c': 3, 'd': 4}\n",
        "merged_dict = {**dict1, **dict2}\n",
        "print(merged_dict)"
      ],
      "metadata": {
        "colab": {
          "base_uri": "https://localhost:8080/"
        },
        "id": "B0RPNEGxsZ-T",
        "outputId": "da1f555b-cc0c-4497-e387-ae9c2c07bae6"
      },
      "execution_count": null,
      "outputs": [
        {
          "output_type": "stream",
          "name": "stdout",
          "text": [
            "{'a': 1, 'b': 2, 'c': 3, 'd': 4}\n"
          ]
        }
      ]
    },
    {
      "cell_type": "code",
      "source": [
        "# sort a dictionary by it values\n",
        "my_dict = {'c': 3, 'a': 1, 'b': 2}\n",
        "sorted_dict = dict(sorted(my_dict.items(), key=lambda item: item[1]))\n",
        "print(sorted_dict)"
      ],
      "metadata": {
        "colab": {
          "base_uri": "https://localhost:8080/"
        },
        "id": "DTwG5ILXsmxh",
        "outputId": "331b840c-538d-4c43-b3db-ddf37acee9e1"
      },
      "execution_count": null,
      "outputs": [
        {
          "output_type": "stream",
          "name": "stdout",
          "text": [
            "{'a': 1, 'b': 2, 'c': 3}\n"
          ]
        }
      ]
    },
    {
      "cell_type": "code",
      "source": [
        "# count the occurences of elements in a dictionary\n",
        "my_dict = {'a': 1, 'b': 2, 'c': 1, 'd': 3, 'e': 2, 'f': 1}\n",
        "counts = {}\n",
        "for value in my_dict.values():\n",
        "  if value in counts:\n",
        "    counts[value] += 1\n",
        "  else:\n",
        "    counts[value] = 1\n",
        "print(counts)"
      ],
      "metadata": {
        "id": "v8IQKtZh18FT",
        "colab": {
          "base_uri": "https://localhost:8080/"
        },
        "outputId": "306223e1-d3c5-49cf-8d79-ede4bbdd0df4"
      },
      "execution_count": null,
      "outputs": [
        {
          "output_type": "stream",
          "name": "stdout",
          "text": [
            "{1: 3, 2: 2, 3: 1}\n"
          ]
        }
      ]
    },
    {
      "cell_type": "code",
      "source": [
        "#check whether a number is prime or not\n",
        "num=int(input(\"enter a number:\"))\n",
        "if num>1:\n",
        "  for i in range(2,num):\n",
        "    if num %i==0:\n",
        "      print(num,\"is not a prime number\")\n",
        "      break\n",
        "  else:\n",
        "    print(num,\"is a prime number\")\n",
        "else:\n",
        "  print(num,\"is not a prime number\")"
      ],
      "metadata": {
        "colab": {
          "base_uri": "https://localhost:8080/"
        },
        "id": "95NM6l__AwG_",
        "outputId": "c9b27b2d-1940-4c10-8676-3e0ce85ff5bc"
      },
      "execution_count": null,
      "outputs": [
        {
          "output_type": "stream",
          "name": "stdout",
          "text": [
            "enter a number:5\n",
            "5 is a prime number\n"
          ]
        }
      ]
    },
    {
      "cell_type": "code",
      "source": [
        "#find the sum of digits of a number\n",
        "num = 12345\n",
        "sum_of_digits = 0\n",
        "for digit in str(num):\n",
        "  sum_of_digits += int(digit)\n",
        "print(sum_of_digits)"
      ],
      "metadata": {
        "colab": {
          "base_uri": "https://localhost:8080/"
        },
        "id": "D0Fr1EDCBkle",
        "outputId": "972cf9ab-5d4e-455e-ce49-f897164d3109"
      },
      "execution_count": null,
      "outputs": [
        {
          "output_type": "stream",
          "name": "stdout",
          "text": [
            "15\n"
          ]
        }
      ]
    },
    {
      "cell_type": "code",
      "source": [
        "#find the LCM of two numbers\n",
        "import math\n",
        "\n",
        "a = 12\n",
        "b = 18\n",
        "\n",
        "# Calculate GCD first, then use the formula: LCM(a, b) = (a * b) / GCD(a, b)\n",
        "gcd = math.gcd(a, b)\n",
        "lcm = (a * b) // gcd\n",
        "\n",
        "print(f\"The LCM of {a} and {b} is {lcm}\")"
      ],
      "metadata": {
        "colab": {
          "base_uri": "https://localhost:8080/"
        },
        "id": "PTNpra_JCjc4",
        "outputId": "b9e486b4-c2dc-472a-84d3-103e10c64517"
      },
      "execution_count": null,
      "outputs": [
        {
          "output_type": "stream",
          "name": "stdout",
          "text": [
            "The LCM of 12 and 18 is 36\n"
          ]
        }
      ]
    },
    {
      "cell_type": "code",
      "source": [
        "#find the gcd of two numbers\n",
        "import math\n",
        "a=12\n",
        "b=18\n",
        "gcd=math.gcd(a,b)\n",
        "print(gcd)"
      ],
      "metadata": {
        "colab": {
          "base_uri": "https://localhost:8080/"
        },
        "id": "Z5P5f2GFFXok",
        "outputId": "c10f81d9-257b-4865-a78d-1d93eea97712"
      },
      "execution_count": null,
      "outputs": [
        {
          "output_type": "stream",
          "name": "stdout",
          "text": [
            "6\n"
          ]
        }
      ]
    },
    {
      "cell_type": "code",
      "source": [
        "#define a function to return the sum of two numbers\n",
        "def sum(a,b):\n",
        "  return a+b\n",
        "\n",
        "print(sum(1,2))"
      ],
      "metadata": {
        "id": "lXIo3BWMGQyZ",
        "colab": {
          "base_uri": "https://localhost:8080/"
        },
        "outputId": "a8cf8ace-8136-44bb-b4bf-dc1d072cbee2"
      },
      "execution_count": null,
      "outputs": [
        {
          "output_type": "stream",
          "name": "stdout",
          "text": [
            "3\n"
          ]
        }
      ]
    },
    {
      "cell_type": "code",
      "source": [
        "#define a function that return the square root of a number\n",
        "def square_root(num):\n",
        "  return num**0.5\n",
        "\n",
        "print(square_root(16))"
      ],
      "metadata": {
        "colab": {
          "base_uri": "https://localhost:8080/"
        },
        "id": "PIG8Cu-xkOd6",
        "outputId": "9f4c67c1-40b4-42c2-9e60-715b55a0fedd"
      },
      "execution_count": null,
      "outputs": [
        {
          "output_type": "stream",
          "name": "stdout",
          "text": [
            "4.0\n"
          ]
        }
      ]
    },
    {
      "cell_type": "code",
      "source": [
        "#define a function with default arguments\n",
        "def greet(name, message=\"Hello\"):\n",
        "  print(f\"{message}, {name}!\")\n",
        "\n",
        "greet(\"Alice\")\n"
      ],
      "metadata": {
        "colab": {
          "base_uri": "https://localhost:8080/"
        },
        "id": "Lu-4Pv9xk3r6",
        "outputId": "41e8b712-e19b-498d-ab1b-7c9e6aa2143a"
      },
      "execution_count": null,
      "outputs": [
        {
          "output_type": "stream",
          "name": "stdout",
          "text": [
            "Hello, Alice!\n"
          ]
        }
      ]
    },
    {
      "cell_type": "code",
      "source": [
        "#define a function with variable length arguments\n",
        "def print_args(*args):\n",
        "  for arg in args:\n",
        "    print(arg)\n",
        "\n",
        "print_args(1, \"hello\", True)"
      ],
      "metadata": {
        "colab": {
          "base_uri": "https://localhost:8080/"
        },
        "id": "r7syaHgmlFtx",
        "outputId": "4ab1375c-f8b8-403c-f37f-8bbcaa40277c"
      },
      "execution_count": null,
      "outputs": [
        {
          "output_type": "stream",
          "name": "stdout",
          "text": [
            "1\n",
            "hello\n",
            "True\n"
          ]
        }
      ]
    },
    {
      "cell_type": "code",
      "source": [
        "#define a function that return multiple values\n",
        "def get_name_and_age():\n",
        "  return \"priya\",30\n",
        "\n",
        "name,age=get_name_and_age()\n",
        "print(f\"{name},{age}\")"
      ],
      "metadata": {
        "colab": {
          "base_uri": "https://localhost:8080/"
        },
        "id": "B19XV3otmOkE",
        "outputId": "72f7688b-cc19-40b7-8ee1-459c3efd6110"
      },
      "execution_count": null,
      "outputs": [
        {
          "output_type": "stream",
          "name": "stdout",
          "text": [
            "priya,30\n"
          ]
        }
      ]
    },
    {
      "cell_type": "code",
      "source": [
        "#use a lambda function to add two values\n",
        "add=lambda x,y:x+y\n",
        "print(add(1,2))"
      ],
      "metadata": {
        "colab": {
          "base_uri": "https://localhost:8080/"
        },
        "id": "Xxr66XAuna1w",
        "outputId": "9c49b696-6f15-44d5-9514-c880c31c35c3"
      },
      "execution_count": null,
      "outputs": [
        {
          "output_type": "stream",
          "name": "stdout",
          "text": [
            "3\n"
          ]
        }
      ]
    },
    {
      "cell_type": "code",
      "source": [
        "#use a lamba to find the maximum value of two numbers\n",
        "max=lambda x,y:y if y>x else x\n",
        "print(max(1,2))"
      ],
      "metadata": {
        "colab": {
          "base_uri": "https://localhost:8080/"
        },
        "id": "9E-0L7kLn6Oo",
        "outputId": "561fe1e5-2309-4d0b-f6d7-b1505db8847f"
      },
      "execution_count": null,
      "outputs": [
        {
          "output_type": "stream",
          "name": "stdout",
          "text": [
            "2\n"
          ]
        }
      ]
    },
    {
      "cell_type": "code",
      "source": [
        "#use a lambda function to square a number\n",
        "square=lambda x:x**2\n",
        "print(square(2))"
      ],
      "metadata": {
        "colab": {
          "base_uri": "https://localhost:8080/"
        },
        "id": "Atlxx-SSoPzb",
        "outputId": "8efeba44-b6db-4f58-9f1e-62d04392af65"
      },
      "execution_count": null,
      "outputs": [
        {
          "output_type": "stream",
          "name": "stdout",
          "text": [
            "4\n"
          ]
        }
      ]
    },
    {
      "cell_type": "code",
      "source": [
        "#use a lambda function inside map\n",
        "abc=[1,2,3,4,5]\n",
        "abc1=list(map(lambda x:x**2,abc))\n",
        "print(abc1)\n"
      ],
      "metadata": {
        "colab": {
          "base_uri": "https://localhost:8080/"
        },
        "id": "SfyvEOwcoq9e",
        "outputId": "8ce2eff1-74e2-4e8b-fd4a-b15c81babe78"
      },
      "execution_count": null,
      "outputs": [
        {
          "output_type": "stream",
          "name": "stdout",
          "text": [
            "[1, 4, 9, 16, 25]\n"
          ]
        }
      ]
    },
    {
      "cell_type": "code",
      "source": [
        "#use a lambda function inside a filter\n",
        "abc=[1,2,3,4,5]\n",
        "abc1=list(filter(lambda x:x%2==0,abc))\n",
        "print(abc1)\n"
      ],
      "metadata": {
        "colab": {
          "base_uri": "https://localhost:8080/"
        },
        "id": "P1VdhLWqpM-a",
        "outputId": "684a9784-c5c1-4cdb-9af2-36d8d620c6e3"
      },
      "execution_count": null,
      "outputs": [
        {
          "output_type": "stream",
          "name": "stdout",
          "text": [
            "[2, 4]\n"
          ]
        }
      ]
    },
    {
      "cell_type": "code",
      "source": [
        "#list comprhensions\n",
        "#generate a list of squares using list comprehensions\n",
        "a=[num*num for num in range(10)]\n",
        "print(a)"
      ],
      "metadata": {
        "colab": {
          "base_uri": "https://localhost:8080/"
        },
        "id": "nD6wWbGWpd7J",
        "outputId": "2b8371bc-0479-4024-b95b-1127cf277b16"
      },
      "execution_count": null,
      "outputs": [
        {
          "output_type": "stream",
          "name": "stdout",
          "text": [
            "[0, 1, 4, 9, 16, 25, 36, 49, 64, 81]\n"
          ]
        }
      ]
    },
    {
      "cell_type": "code",
      "source": [
        "#genarate a list of even numbers using list comprehensions\n",
        "a=[num for num in range(10) if num%2==0]\n",
        "print(a)"
      ],
      "metadata": {
        "colab": {
          "base_uri": "https://localhost:8080/"
        },
        "id": "0RGawrs4q4ib",
        "outputId": "1749ab57-2e91-459b-ac7c-c7eb3867c96c"
      },
      "execution_count": null,
      "outputs": [
        {
          "output_type": "stream",
          "name": "stdout",
          "text": [
            "[0, 2, 4, 6, 8]\n"
          ]
        }
      ]
    },
    {
      "cell_type": "code",
      "source": [
        "#reverse a list using list comprehensions\n",
        "a=[num for num in range(10)]\n",
        "print(a[::-1])"
      ],
      "metadata": {
        "colab": {
          "base_uri": "https://localhost:8080/"
        },
        "id": "0Wg7Mt1srSI4",
        "outputId": "310abe90-c113-4a45-b93a-ed5e83245160"
      },
      "execution_count": null,
      "outputs": [
        {
          "output_type": "stream",
          "name": "stdout",
          "text": [
            "[9, 8, 7, 6, 5, 4, 3, 2, 1, 0]\n"
          ]
        }
      ]
    },
    {
      "cell_type": "code",
      "source": [
        "#flatten a nested list using list comprehension\n",
        "a=[[1, 2, 3], [4, 5], [6, 7, 8, 9]]\n",
        "flattened_list = [item for sublist in a for item in sublist]\n",
        "print(flattened_list)"
      ],
      "metadata": {
        "colab": {
          "base_uri": "https://localhost:8080/"
        },
        "id": "6zKh4cNhrq2D",
        "outputId": "487aa6b3-9756-45fb-fe25-e2aac9bb20a5"
      },
      "execution_count": null,
      "outputs": [
        {
          "output_type": "stream",
          "name": "stdout",
          "text": [
            "[1, 2, 3, 4, 5, 6, 7, 8, 9]\n"
          ]
        }
      ]
    },
    {
      "cell_type": "code",
      "source": [
        "#find common elements in two list using two list compehensions\n",
        "a=[1,2,3,4]\n",
        "b=[3,4,5,6]\n",
        "x=[element for element in a if element in b]\n",
        "print(x)"
      ],
      "metadata": {
        "colab": {
          "base_uri": "https://localhost:8080/"
        },
        "id": "hEEsPmSrs5hs",
        "outputId": "92691495-f6f5-4de2-dc38-bc2db271006a"
      },
      "execution_count": null,
      "outputs": [
        {
          "output_type": "stream",
          "name": "stdout",
          "text": [
            "[3, 4]\n"
          ]
        }
      ]
    },
    {
      "cell_type": "code",
      "source": [
        "#swap two numbers without using a third variable\n",
        "a=12\n",
        "b=13\n",
        "print(f\"the value of a is{b},the value of b is{a}\")"
      ],
      "metadata": {
        "colab": {
          "base_uri": "https://localhost:8080/"
        },
        "id": "WagIKm-etsjy",
        "outputId": "aec6a6ad-1d59-45c1-ca63-e747cc51cbae"
      },
      "execution_count": null,
      "outputs": [
        {
          "output_type": "stream",
          "name": "stdout",
          "text": [
            "the value of a is13,the value of b is12\n"
          ]
        }
      ]
    },
    {
      "cell_type": "code",
      "source": [
        "#find the second largest element in a list\n",
        "a=[1,2,3,4,5,6,7]\n",
        "for i in range(len(a)):\n",
        "  for j in range(i+1,len(a)):\n",
        "    if a[i]<a[j]:\n",
        "      a[i],a[j]=a[j],a[i]\n",
        "print(a[1])"
      ],
      "metadata": {
        "colab": {
          "base_uri": "https://localhost:8080/"
        },
        "id": "Fh5nreFPu76C",
        "outputId": "272bc1c9-78f4-465b-bb4a-b5260e0a1d30"
      },
      "execution_count": null,
      "outputs": [
        {
          "output_type": "stream",
          "name": "stdout",
          "text": [
            "6\n"
          ]
        }
      ]
    },
    {
      "cell_type": "code",
      "source": [
        "#check two strings are anargams\n",
        "str1 = \"listen\"\n",
        "str2 = \"silent\"\n",
        "\n",
        "if sorted(str1) == sorted(str2):\n",
        "  print(f\"{str1} and {str2} are anagrams\")\n",
        "else:\n",
        "  print(f\"{str1} and {str2} are not anagrams\")"
      ],
      "metadata": {
        "colab": {
          "base_uri": "https://localhost:8080/"
        },
        "id": "HTiM4_QBvRFx",
        "outputId": "ca37802c-fe8c-4e0a-ac37-00b086255b86"
      },
      "execution_count": null,
      "outputs": [
        {
          "output_type": "stream",
          "name": "stdout",
          "text": [
            "listen and silent are anagrams\n"
          ]
        }
      ]
    },
    {
      "cell_type": "code",
      "source": [
        "#count the occurence of word in a sentence\n",
        "sentence=input(\"enter a sentence:\")\n",
        "word_count={}\n",
        "words=sentence.split()\n",
        "for word in words:\n",
        "  if word in word_count:\n",
        "    word_count[word]+=1\n",
        "  else:\n",
        "    word_count[word]=1\n",
        "print(word_count)\n"
      ],
      "metadata": {
        "colab": {
          "base_uri": "https://localhost:8080/"
        },
        "id": "4Fo_smt-wvwm",
        "outputId": "ef94231d-8c88-4946-904e-f4d2bb7222e6"
      },
      "execution_count": null,
      "outputs": [
        {
          "output_type": "stream",
          "name": "stdout",
          "text": [
            "enter a sentence:i love data and i love python\n",
            "{'i': 2, 'love': 2, 'data': 1, 'and': 1, 'python': 1}\n"
          ]
        }
      ]
    },
    {
      "cell_type": "code",
      "source": [],
      "metadata": {
        "id": "LdmeDB_zx7A0"
      },
      "execution_count": null,
      "outputs": []
    }
  ]
}